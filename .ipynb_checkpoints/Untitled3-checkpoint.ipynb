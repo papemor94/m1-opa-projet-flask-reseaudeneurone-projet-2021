{
 "cells": [
  {
   "cell_type": "code",
   "execution_count": 5,
   "id": "69c363d0",
   "metadata": {},
   "outputs": [
    {
     "data": {
      "text/plain": [
       "array([ 1.00e+00,  1.08e+02,  1.00e+00,  5.58e+03,  5.58e+03, -8.70e+01,\n",
       "       -8.60e+01, -8.60e+01, -8.90e+01, -8.90e+01, -8.90e+01, -8.90e+01,\n",
       "       -8.50e+01, -8.10e+01, -8.10e+01, -8.10e+01, -8.70e+01, -8.60e+01,\n",
       "       -8.60e+01, -8.10e+01, -7.80e+01])"
      ]
     },
     "execution_count": 5,
     "metadata": {},
     "output_type": "execute_result"
    }
   ],
   "source": [
    "\n",
    "import numpy as np\n",
    "import pandas as pd \n",
    "from sklearn.ensemble import RandomForestClassifier\n",
    "from sklearn.model_selection import train_test_split\n",
    "clf = RandomForestClassifier(n_estimators = 100) \n",
    "from sklearn import metrics\n",
    "\n",
    " \n",
    "def load (input):\n",
    "    data = pd.read_csv(input, delimiter = \",\")\n",
    "    extraced_ssid_level_pivot =data.pivot(columns=['bssid'], values='level')\n",
    "\n",
    "    output =pd.concat([data, extraced_ssid_level_pivot] , axis=1)\n",
    "\n",
    "    if 'level' in output:\n",
    "        del output['level']\n",
    "    if 'ssid' in output:\n",
    "        del output['ssid']\n",
    "    if 'bssid' in output:\n",
    "        del output['bssid']\n",
    "    return output\n",
    "\n",
    "\n",
    "def get_features_and_target(df , target_to_predicte):\n",
    "    target=df[target_to_predicte]\n",
    "    if target_to_predicte in df:\n",
    "        del df[target_to_predicte]\n",
    "    features=df\n",
    "    return features, target\n",
    "\n"
   ]
  },
  {
   "cell_type": "code",
   "execution_count": null,
   "id": "c01db94d",
   "metadata": {},
   "outputs": [
    {
     "name": "stdout",
     "output_type": "stream",
     "text": [
      " * Serving Flask app \"__main__\" (lazy loading)\n",
      " * Environment: production\n",
      "\u001b[31m   WARNING: This is a development server. Do not use it in a production deployment.\u001b[0m\n",
      "\u001b[2m   Use a production WSGI server instead.\u001b[0m\n",
      " * Debug mode: off\n"
     ]
    },
    {
     "name": "stderr",
     "output_type": "stream",
     "text": [
      " * Running on http://0.0.0.0:5000/ (Press CTRL+C to quit)\n",
      "[2021-04-16 16:42:13,371] ERROR in app: Exception on /app [POST]\n",
      "Traceback (most recent call last):\n",
      "  File \"/opt/conda/lib/python3.8/site-packages/flask/app.py\", line 2447, in wsgi_app\n",
      "    response = self.full_dispatch_request()\n",
      "  File \"/opt/conda/lib/python3.8/site-packages/flask/app.py\", line 1952, in full_dispatch_request\n",
      "    rv = self.handle_user_exception(e)\n",
      "  File \"/opt/conda/lib/python3.8/site-packages/flask/app.py\", line 1821, in handle_user_exception\n",
      "    reraise(exc_type, exc_value, tb)\n",
      "  File \"/opt/conda/lib/python3.8/site-packages/flask/_compat.py\", line 39, in reraise\n",
      "    raise value\n",
      "  File \"/opt/conda/lib/python3.8/site-packages/flask/app.py\", line 1950, in full_dispatch_request\n",
      "    rv = self.dispatch_request()\n",
      "  File \"/opt/conda/lib/python3.8/site-packages/flask/app.py\", line 1936, in dispatch_request\n",
      "    return self.view_functions[rule.endpoint](**req.view_args)\n",
      "  File \"<ipython-input-6-e33df12d6434>\", line 16, in makecalc\n",
      "    prediction = np.array2string(model.predict(dataset.iloc[0].values))\n",
      "  File \"/opt/conda/lib/python3.8/site-packages/sklearn/ensemble/_forest.py\", line 630, in predict\n",
      "    proba = self.predict_proba(X)\n",
      "  File \"/opt/conda/lib/python3.8/site-packages/sklearn/ensemble/_forest.py\", line 672, in predict_proba\n",
      "    check_is_fitted(self)\n",
      "  File \"/opt/conda/lib/python3.8/site-packages/sklearn/utils/validation.py\", line 63, in inner_f\n",
      "    return f(*args, **kwargs)\n",
      "  File \"/opt/conda/lib/python3.8/site-packages/sklearn/utils/validation.py\", line 1041, in check_is_fitted\n",
      "    raise NotFittedError(msg % {'name': type(estimator).__name__})\n",
      "sklearn.exceptions.NotFittedError: This RandomForestClassifier instance is not fitted yet. Call 'fit' with appropriate arguments before using this estimator.\n",
      "127.0.0.1 - - [16/Apr/2021 16:42:13] \"\u001b[35m\u001b[1mPOST /app HTTP/1.1\u001b[0m\" 500 -\n"
     ]
    }
   ],
   "source": [
    "from flask import Flask, request, redirect, url_for, flash, jsonify\n",
    "import numpy as np\n",
    "import pickle as p\n",
    "import json\n",
    "\n",
    "\n",
    "app = Flask(__name__)\n",
    "\n",
    "dataset  =load('json.txt') ;\n",
    "dataset =dataset.groupby('positionid').agg(\"max\").fillna(100)\n",
    "\n",
    "\n",
    "@app.route('/app', methods=['POST'])\n",
    "def makecalc():\n",
    "    data = request.get_json()\n",
    "    prediction = np.array2string(model.predict(dataset.iloc[0].values))\n",
    "\n",
    "    return jsonify(prediction)\n",
    "if __name__ == '__main__':\n",
    "    modelfile = 'model.pkl'\n",
    "    model = p.load(open(modelfile, 'rb'))\n",
    "    app.run(debug=False, host='0.0.0.0')\n",
    "# ici le serveur traite les donnees qu'il recoit \n"
   ]
  },
  {
   "cell_type": "code",
   "execution_count": 4,
   "id": "7831601e",
   "metadata": {},
   "outputs": [
    {
     "data": {
      "text/plain": [
       "array([ 1.00e+00,  1.08e+02,  1.00e+00,  5.58e+03,  5.58e+03, -8.70e+01,\n",
       "       -8.60e+01, -8.60e+01, -8.90e+01, -8.90e+01, -8.90e+01, -8.90e+01,\n",
       "       -8.50e+01, -8.10e+01, -8.10e+01, -8.10e+01, -8.70e+01, -8.60e+01,\n",
       "       -8.60e+01, -8.10e+01, -7.80e+01])"
      ]
     },
     "execution_count": 4,
     "metadata": {},
     "output_type": "execute_result"
    }
   ],
   "source": [
    "# ici le serveur traite les donnees qu'il recoit \n",
    "\n",
    "import numpy as np\n",
    "import pandas as pd \n",
    "from sklearn.ensemble import RandomForestClassifier\n",
    "from sklearn.model_selection import train_test_split\n",
    "clf = RandomForestClassifier(n_estimators = 100) \n",
    "from sklearn import metrics\n",
    "\n",
    " \n",
    "def load (input):\n",
    "    data = pd.read_csv(input, delimiter = \",\")\n",
    "    extraced_ssid_level_pivot =data.pivot(columns=['bssid'], values='level')\n",
    "\n",
    "    output =pd.concat([data, extraced_ssid_level_pivot] , axis=1)\n",
    "\n",
    "    if 'level' in output:\n",
    "        del output['level']\n",
    "    if 'ssid' in output:\n",
    "        del output['ssid']\n",
    "    if 'bssid' in output:\n",
    "        del output['bssid']\n",
    "    return output\n",
    "\n",
    "\n",
    "def get_features_and_target(df , target_to_predicte):\n",
    "    target=df[target_to_predicte]\n",
    "    if target_to_predicte in df:\n",
    "        del df[target_to_predicte]\n",
    "    features=df\n",
    "    return features, target\n",
    "\n",
    "dataset  =load('json.txt') ;\n",
    "dataset =dataset.groupby('positionid').agg(\"max\").fillna(100)\n",
    "dataset.iloc[0].values"
   ]
  }
 ],
 "metadata": {
  "kernelspec": {
   "display_name": "Python 3",
   "language": "python",
   "name": "python3"
  },
  "language_info": {
   "codemirror_mode": {
    "name": "ipython",
    "version": 3
   },
   "file_extension": ".py",
   "mimetype": "text/x-python",
   "name": "python",
   "nbconvert_exporter": "python",
   "pygments_lexer": "ipython3",
   "version": "3.8.8"
  }
 },
 "nbformat": 4,
 "nbformat_minor": 5
}
