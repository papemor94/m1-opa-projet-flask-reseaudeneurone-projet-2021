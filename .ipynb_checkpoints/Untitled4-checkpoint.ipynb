{
 "cells": [
  {
   "cell_type": "code",
   "execution_count": null,
   "id": "5051b412",
   "metadata": {},
   "outputs": [
    {
     "name": "stdout",
     "output_type": "stream",
     "text": [
      " * Serving Flask app \"__main__\" (lazy loading)\n",
      " * Environment: production\n",
      "\u001b[31m   WARNING: This is a development server. Do not use it in a production deployment.\u001b[0m\n",
      "\u001b[2m   Use a production WSGI server instead.\u001b[0m\n",
      " * Debug mode: off\n"
     ]
    },
    {
     "name": "stderr",
     "output_type": "stream",
     "text": [
      " * Running on http://127.0.0.1:7000/ (Press CTRL+C to quit)\n",
      "[2021-04-19 09:29:53,901] ERROR in app: Exception on / [POST]\n",
      "Traceback (most recent call last):\n",
      "  File \"/opt/conda/lib/python3.8/site-packages/flask/app.py\", line 2447, in wsgi_app\n",
      "    response = self.full_dispatch_request()\n",
      "  File \"/opt/conda/lib/python3.8/site-packages/flask/app.py\", line 1953, in full_dispatch_request\n",
      "    return self.finalize_request(rv)\n",
      "  File \"/opt/conda/lib/python3.8/site-packages/flask/app.py\", line 1968, in finalize_request\n",
      "    response = self.make_response(rv)\n",
      "  File \"/opt/conda/lib/python3.8/site-packages/flask/app.py\", line 2097, in make_response\n",
      "    raise TypeError(\n",
      "TypeError: The view function did not return a valid response. The function either returned None or ended without a return statement.\n",
      "127.0.0.1 - - [19/Apr/2021 09:29:53] \"\u001b[35m\u001b[1mPOST / HTTP/1.1\u001b[0m\" 500 -\n"
     ]
    }
   ],
   "source": [
    "from flask import Flask, request\n",
    "app = Flask(__name__)\n",
    "\n",
    "\n",
    "@app.route('/', methods=['GET', 'POST'])\n",
    "def home():\n",
    "    if (request.method == 'GET'):\n",
    "        return \"get request\"\n",
    "    else:\n",
    "        dataposted = request.data\n",
    "        return request\n",
    "app.run(host=\"127.0.0.1\", port=\"7000\")"
   ]
  },
  {
   "cell_type": "code",
   "execution_count": null,
   "id": "1960401d",
   "metadata": {},
   "outputs": [],
   "source": []
  }
 ],
 "metadata": {
  "kernelspec": {
   "display_name": "Python 3",
   "language": "python",
   "name": "python3"
  },
  "language_info": {
   "codemirror_mode": {
    "name": "ipython",
    "version": 3
   },
   "file_extension": ".py",
   "mimetype": "text/x-python",
   "name": "python",
   "nbconvert_exporter": "python",
   "pygments_lexer": "ipython3",
   "version": "3.8.8"
  }
 },
 "nbformat": 4,
 "nbformat_minor": 5
}
