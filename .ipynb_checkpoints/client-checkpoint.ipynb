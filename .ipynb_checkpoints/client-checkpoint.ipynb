{
 "cells": [
  {
   "cell_type": "code",
   "execution_count": 8,
   "metadata": {},
   "outputs": [
    {
     "name": "stdout",
     "output_type": "stream",
     "text": [
      "[[100, -7541.2643, 1222, 2, 1, 2, 200, 23]]\n",
      "<Response [500]> <!DOCTYPE HTML PUBLIC \"-//W3C//DTD HTML 3.2 Final//EN\">\n",
      "<title>500 Internal Server Error</title>\n",
      "<h1>Internal Server Error</h1>\n",
      "<p>The server encountered an internal error and was unable to complete your request. Either the server is overloaded or there is an error in the application.</p>\n",
      "\n"
     ]
    }
   ],
   "source": [
    "\n",
    " #  client of python flask REST \n",
    "    \n",
    "import pandas as pd\n",
    "    \n",
    "import requests\n",
    "import json\n",
    "\n",
    "# Qunad une nouvelle données arrive txt \n",
    "# lecture et pretraitement \n",
    "\n",
    "data = pd.read_csv('json.txt', delimiter = \",\")\n",
    "extraced_ssid_level_pivot =data.pivot(columns=['ssid'], values='level')\n",
    "\n",
    "input_clf =pd.concat([data, extraced_ssid_level_pivot] , axis=1)\n",
    "\n",
    "if 'level' in input_clf:\n",
    "    del input_clf['level']\n",
    "if 'ssid' in input_clf:\n",
    "    del input_clf['ssid']\n",
    "\n",
    "\n",
    "input_clf =input_clf.groupby('salleid').agg(\"max\").fillna(100)\n",
    "input_clf = input_clf.values\n",
    "input_clf\n",
    "\n",
    "url = 'http://127.0.0.1:5000/app'\n",
    "\n",
    "data = [[100,-7541.264300, 1222 , 2, 1, 2, 200, 23]]\n",
    "j_data = json.dumps(data)\n",
    "print(j_data)\n",
    "headers = {'content-type': 'application/json', 'Accept-Charset': 'UTF-8'}\n",
    "r = requests.post(url, data=j_data, headers=headers)\n",
    "print(r, r.text)"
   ]
  }
 ],
 "metadata": {
  "kernelspec": {
   "display_name": "Python 3",
   "language": "python",
   "name": "python3"
  },
  "language_info": {
   "codemirror_mode": {
    "name": "ipython",
    "version": 3
   },
   "file_extension": ".py",
   "mimetype": "text/x-python",
   "name": "python",
   "nbconvert_exporter": "python",
   "pygments_lexer": "ipython3",
   "version": "3.8.8"
  }
 },
 "nbformat": 4,
 "nbformat_minor": 4
}
