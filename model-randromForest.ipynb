{
 "cells": [
  {
   "cell_type": "code",
   "execution_count": 1,
   "id": "e0f85b67",
   "metadata": {},
   "outputs": [
    {
     "name": "stdout",
     "output_type": "stream",
     "text": [
      "0.5384615384615384\n",
      "['118' '1' '118' '118' '4' '1' '100' '214' '1' '104' '108' '104' '118'\n",
      " '104' '220' '108' '104' '211' '0' '4' '4' '118' '118' '211' '207' '214']\n"
     ]
    }
   ],
   "source": [
    "import numpy as np\n",
    "import pandas as pd \n",
    "from sklearn.ensemble import RandomForestClassifier\n",
    "from sklearn.datasets import make_classification\n",
    "from sklearn.model_selection import train_test_split\n",
    "clf = RandomForestClassifier(n_estimators = 100) \n",
    "from sklearn import metrics\n",
    "import pickle\n",
    "from sklearn import tree\n",
    "try:\n",
    "     import flask\n",
    "except:\n",
    "    ! conda install --yes flask         \n",
    "\n",
    "from flask import Flask, request, redirect, url_for, flash, jsonify\n",
    "import numpy as np\n",
    "import pickle as p\n",
    "import json\n",
    "from pandas import json_normalize\n",
    "\n",
    "def load (input):\n",
    "    \n",
    "    data = pd.read_csv(input, delimiter = \",\")\n",
    "    extraced_ssid_level_pivot =data.pivot(columns=['bssid'], values='level')\n",
    "\n",
    "    output =pd.concat([data, extraced_ssid_level_pivot] , axis=1)\n",
    "    if 'level' in output:\n",
    "        del output['level']\n",
    "    if 'ssid' in output:\n",
    "        del output['ssid']\n",
    "    if 'bssid' in output:\n",
    "        del output['bssid']\n",
    "    return output\n",
    "\n",
    "def get_features_and_target(df , target_to_predicte):\n",
    "    target=df[target_to_predicte]\n",
    "    if target_to_predicte in df:\n",
    "        del df[target_to_predicte]\n",
    "    features=df\n",
    "    return features, target\n",
    "\n",
    "\n",
    "dataset  = load('donnees.txt') ;   # on souhaitera ajouter des donnees dans ce dataset\n",
    "dataset['salleid'] = dataset['salleid'].astype(str)\n",
    "\n",
    "dataset = dataset.groupby('positionid').agg(\"max\").fillna(100)\n",
    "dataset\n",
    "\n",
    "# 8\n",
    "X, y =get_features_and_target(dataset, 'salleid')\n",
    "X_train, X_test, y_train, y_test = train_test_split( X, y, test_size=0.33)\n",
    "clf = RandomForestClassifier(criterion='gini', max_depth=8,n_estimators=50)\n",
    "clf.fit(X_train, y_train)\n",
    "\n",
    "y_pred =clf.predict(X_test)\n",
    "print(clf.score(X_test, y_test))\n",
    "print(y_pred)"
   ]
  },
  {
   "cell_type": "code",
   "execution_count": 2,
   "id": "de26be40",
   "metadata": {},
   "outputs": [],
   "source": [
    "res  = clf.predict_proba(X_test)"
   ]
  },
  {
   "cell_type": "code",
   "execution_count": 3,
   "id": "d40c5a66",
   "metadata": {},
   "outputs": [],
   "source": [
    "def  get_labels():\n",
    "    labels = []\n",
    "    for element in y_train:\n",
    "        if element not in labels:\n",
    "            labels.append(element)\n",
    "\n",
    "    labels  = np.array(labels).astype(\"int\")\n",
    "    labels.sort()\n",
    "    return labels.tolist()"
   ]
  },
  {
   "cell_type": "code",
   "execution_count": 4,
   "id": "a603a70b",
   "metadata": {},
   "outputs": [
    {
     "data": {
      "text/plain": [
       "[0, 1, 4, 100, 104, 108, 113, 118, 207, 211, 214, 220]"
      ]
     },
     "execution_count": 4,
     "metadata": {},
     "output_type": "execute_result"
    }
   ],
   "source": [
    "labels = get_labels()\n",
    "labels"
   ]
  },
  {
   "cell_type": "code",
   "execution_count": 5,
   "id": "ed24fb79",
   "metadata": {},
   "outputs": [],
   "source": [
    "\n",
    "# recupere les trois max et leur index   cle valeur \n",
    "def get_max(predicted_proba , labels):\n",
    "    dic = dict()\n",
    "    for i in range(3):\n",
    "        print(predicted_proba)\n",
    "        max_value = max(predicted_proba)\n",
    "        max_index = predicted_proba.index(max_value)\n",
    "        print(max_index)\n",
    "        key = labels[max_index]\n",
    "        dic[key] = max_value*100\n",
    "        predicted_proba[max_index]=-1\n",
    "    return dic\n",
    "\n",
    "#print(labels)\n",
    "#print(get_max(res[0].tolist() ,  get_labels()))"
   ]
  },
  {
   "cell_type": "code",
   "execution_count": 6,
   "id": "ad54ca94",
   "metadata": {},
   "outputs": [],
   "source": [
    "pickle.dump(clf, open('modelfinal.pkl','wb')) "
   ]
  },
  {
   "cell_type": "code",
   "execution_count": 7,
   "id": "423489c4",
   "metadata": {},
   "outputs": [],
   "source": [
    "def clean_input(dataset , X_dict): \n",
    "    X_dataframe = pd.DataFrame.from_dict(X_dict)\n",
    "    for feature in X_dataframe: \n",
    "        if feature in dataset:\n",
    "            print(feature)\n",
    "        else:\n",
    "            del X_dataframe[feature]\n",
    "    return  X_dataframe\n",
    "\n",
    "def threat_input(dataset , X_input):\n",
    "    X_input= clean_input(dataset , X_input)\n",
    "    key_array = []\n",
    "    for feature in X_input:\n",
    "        key_array.append(feature)\n",
    "    values = X_input.values\n",
    "    maj_dataset =  dataset.append(dict(zip(key_array, *values)), ignore_index=True)\n",
    "    formated_input = maj_dataset.replace(np.nan,100)\n",
    "    formated_input = formated_input[-1:].values\n",
    "    return formated_input"
   ]
  },
  {
   "cell_type": "code",
   "execution_count": null,
   "id": "5828b5a0",
   "metadata": {},
   "outputs": [
    {
     "name": "stdout",
     "output_type": "stream",
     "text": [
      " * Serving Flask app \"__main__\" (lazy loading)\n",
      " * Environment: production\n",
      "\u001b[31m   WARNING: This is a development server. Do not use it in a production deployment.\u001b[0m\n",
      "\u001b[2m   Use a production WSGI server instead.\u001b[0m\n",
      " * Debug mode: off\n"
     ]
    },
    {
     "name": "stderr",
     "output_type": "stream",
     "text": [
      " * Running on http://0.0.0.0:5000/ (Press CTRL+C to quit)\n",
      "172.28.0.1 - - [06/May/2021 15:29:28] \"\u001b[37mPOST /predict HTTP/1.1\u001b[0m\" 200 -\n"
     ]
    },
    {
     "name": "stdout",
     "output_type": "stream",
     "text": [
      "predicted ['0'] <class 'numpy.ndarray'>\n",
      "[0.2351515151515152, 0.10619047619047618, 0.02816017316017316, 0.06967532467532467, 0.05833333333333333, 0.06378787878787878, 0.03857142857142857, 0.008636363636363636, 0.08681818181818182, 0.05285714285714285, 0.22181818181818183, 0.03]\n",
      "0\n",
      "[-1, 0.10619047619047618, 0.02816017316017316, 0.06967532467532467, 0.05833333333333333, 0.06378787878787878, 0.03857142857142857, 0.008636363636363636, 0.08681818181818182, 0.05285714285714285, 0.22181818181818183, 0.03]\n",
      "10\n",
      "[-1, 0.10619047619047618, 0.02816017316017316, 0.06967532467532467, 0.05833333333333333, 0.06378787878787878, 0.03857142857142857, 0.008636363636363636, 0.08681818181818182, 0.05285714285714285, -1, 0.03]\n",
      "1\n",
      "result {0: 23.51515151515152, 214: 22.181818181818183, 1: 10.619047619047619}\n",
      "[0.2351515151515152, 0.10619047619047618, 0.02816017316017316, 0.06967532467532467, 0.05833333333333333, 0.06378787878787878, 0.03857142857142857, 0.008636363636363636, 0.08681818181818182, 0.05285714285714285, 0.22181818181818183, 0.03]\n",
      "0\n",
      "[-1, 0.10619047619047618, 0.02816017316017316, 0.06967532467532467, 0.05833333333333333, 0.06378787878787878, 0.03857142857142857, 0.008636363636363636, 0.08681818181818182, 0.05285714285714285, 0.22181818181818183, 0.03]\n",
      "10\n",
      "[-1, 0.10619047619047618, 0.02816017316017316, 0.06967532467532467, 0.05833333333333333, 0.06378787878787878, 0.03857142857142857, 0.008636363636363636, 0.08681818181818182, 0.05285714285714285, -1, 0.03]\n",
      "1\n"
     ]
    },
    {
     "name": "stderr",
     "output_type": "stream",
     "text": [
      "172.28.0.1 - - [06/May/2021 15:31:33] \"\u001b[37mPOST /predict HTTP/1.1\u001b[0m\" 200 -\n"
     ]
    },
    {
     "name": "stdout",
     "output_type": "stream",
     "text": [
      "1c:28:af:ce:e7:11\n",
      "1c:28:af:ce:e7:10\n",
      "1c:28:af:ce:e7:12\n",
      "1c:28:af:ce:e7:13\n",
      "1c:28:af:ce:e7:14\n",
      "1c:28:af:ce:e7:00\n",
      "1c:28:af:ce:e7:01\n",
      "1c:28:af:ce:e7:02\n",
      "1c:28:af:b2:f7:60\n",
      "1c:28:af:ce:1b:c2\n",
      "1c:28:af:b4:1c:e0\n",
      "1c:28:af:b4:1c:e1\n",
      "1c:28:af:b4:1c:e2\n",
      "1c:28:af:ce:1b:c1\n",
      "1c:28:af:b2:f7:62\n",
      "1c:28:af:ce:1b:c0\n",
      "1c:28:af:b2:f7:61\n",
      "1c:28:af:b2:c8:52\n",
      "1c:28:af:b2:c8:50\n",
      "1c:28:af:b2:c8:51\n",
      "1c:28:af:cd:9f:70\n",
      "1c:28:af:b2:c8:54\n",
      "1c:28:af:b2:c8:53\n",
      "1c:28:af:cd:9f:72\n",
      "1c:28:af:cd:9f:71\n",
      "1c:28:af:ce:1b:d0\n",
      "1c:28:af:ce:1b:d2\n",
      "1c:28:af:ce:1b:d1\n",
      "1c:28:af:b2:c8:42\n",
      "1c:28:af:b2:c8:40\n",
      "1c:28:af:b2:c8:41\n",
      "1c:28:af:b4:32:20\n",
      "1c:28:af:b3:b8:72\n",
      "1c:28:af:b4:32:22\n",
      "1c:28:af:cd:23:22\n",
      "1c:28:af:cd:23:23\n",
      "1c:28:af:b4:32:21\n",
      "1c:28:af:cd:23:24\n",
      "1c:28:af:b3:b8:71\n",
      "1c:28:af:b3:b8:70\n",
      "predicted ['4'] <class 'numpy.ndarray'>\n",
      "[0.08848484848484847, 0.31, 0.09030303030303029, 0.0018181818181818182, 0.0, 0.005454545454545454, 0.02, 0.0036363636363636364, 0.0018181818181818182, 0.01, 0.07848484848484849, 0.39]\n",
      "11\n",
      "[0.08848484848484847, 0.31, 0.09030303030303029, 0.0018181818181818182, 0.0, 0.005454545454545454, 0.02, 0.0036363636363636364, 0.0018181818181818182, 0.01, 0.07848484848484849, -1]\n",
      "1\n",
      "[0.08848484848484847, -1, 0.09030303030303029, 0.0018181818181818182, 0.0, 0.005454545454545454, 0.02, 0.0036363636363636364, 0.0018181818181818182, 0.01, 0.07848484848484849, -1]\n",
      "2\n",
      "result {220: 39.0, 1: 31.0, 4: 9.03030303030303}\n",
      "[0.08848484848484847, 0.31, 0.09030303030303029, 0.0018181818181818182, 0.0, 0.005454545454545454, 0.02, 0.0036363636363636364, 0.0018181818181818182, 0.01, 0.07848484848484849, 0.39]\n",
      "11\n",
      "[0.08848484848484847, 0.31, 0.09030303030303029, 0.0018181818181818182, 0.0, 0.005454545454545454, 0.02, 0.0036363636363636364, 0.0018181818181818182, 0.01, 0.07848484848484849, -1]\n",
      "1\n",
      "[0.08848484848484847, -1, 0.09030303030303029, 0.0018181818181818182, 0.0, 0.005454545454545454, 0.02, 0.0036363636363636364, 0.0018181818181818182, 0.01, 0.07848484848484849, -1]\n",
      "2\n"
     ]
    },
    {
     "name": "stderr",
     "output_type": "stream",
     "text": [
      "172.28.0.1 - - [06/May/2021 15:32:46] \"\u001b[37mPOST /predict HTTP/1.1\u001b[0m\" 200 -\n"
     ]
    },
    {
     "name": "stdout",
     "output_type": "stream",
     "text": [
      "predicted ['0'] <class 'numpy.ndarray'>\n",
      "[0.2351515151515152, 0.10619047619047618, 0.02816017316017316, 0.06967532467532467, 0.05833333333333333, 0.06378787878787878, 0.03857142857142857, 0.008636363636363636, 0.08681818181818182, 0.05285714285714285, 0.22181818181818183, 0.03]\n",
      "0\n",
      "[-1, 0.10619047619047618, 0.02816017316017316, 0.06967532467532467, 0.05833333333333333, 0.06378787878787878, 0.03857142857142857, 0.008636363636363636, 0.08681818181818182, 0.05285714285714285, 0.22181818181818183, 0.03]\n",
      "10\n",
      "[-1, 0.10619047619047618, 0.02816017316017316, 0.06967532467532467, 0.05833333333333333, 0.06378787878787878, 0.03857142857142857, 0.008636363636363636, 0.08681818181818182, 0.05285714285714285, -1, 0.03]\n",
      "1\n",
      "result {0: 23.51515151515152, 214: 22.181818181818183, 1: 10.619047619047619}\n",
      "[0.2351515151515152, 0.10619047619047618, 0.02816017316017316, 0.06967532467532467, 0.05833333333333333, 0.06378787878787878, 0.03857142857142857, 0.008636363636363636, 0.08681818181818182, 0.05285714285714285, 0.22181818181818183, 0.03]\n",
      "0\n",
      "[-1, 0.10619047619047618, 0.02816017316017316, 0.06967532467532467, 0.05833333333333333, 0.06378787878787878, 0.03857142857142857, 0.008636363636363636, 0.08681818181818182, 0.05285714285714285, 0.22181818181818183, 0.03]\n",
      "10\n",
      "[-1, 0.10619047619047618, 0.02816017316017316, 0.06967532467532467, 0.05833333333333333, 0.06378787878787878, 0.03857142857142857, 0.008636363636363636, 0.08681818181818182, 0.05285714285714285, -1, 0.03]\n",
      "1\n"
     ]
    }
   ],
   "source": [
    "app = Flask(__name__)\n",
    "\n",
    "@app.route('/predict', methods=['GET','POST'])\n",
    "def makecalc():\n",
    "    #print(request.json)\n",
    "    #print(dataset)\n",
    "    observation = threat_input(dataset , request.json)\n",
    "    #print(threat_input(dataset , request.json))\n",
    "    print (\"predicted\" , model.predict(observation) , type(model.predict(observation)))\n",
    "    proba  = model.predict_proba(observation)\n",
    "    print (\"result\" , get_max(proba[0].tolist()  , labels))\n",
    "    return json.dumps(get_max(proba[0].tolist()  , labels))\n",
    "@app.route('/app', methods=['GET','POST'])\n",
    "def makecalcc():\n",
    "    print(request.json)\n",
    "    return \"computed\"\n",
    "if __name__ == '__main__':\n",
    "    modelfile = 'modelfinal.pkl'\n",
    "    model = p.load(open(modelfile, 'rb'))\n",
    "    app.run(debug=False, host='0.0.0.0')\n",
    "# ici le serveur traite les donnees qu'il recoit "
   ]
  },
  {
   "cell_type": "code",
   "execution_count": null,
   "id": "4b2b45b6",
   "metadata": {},
   "outputs": [],
   "source": [
    "try:\n",
    "     import pandas_profiling\n",
    "except:\n",
    "    ! conda install --yes pandas-profiling   \n",
    "try:\n",
    "     import geopandas\n",
    "except:\n",
    "    ! conda install --yes geopandas    "
   ]
  },
  {
   "cell_type": "code",
   "execution_count": null,
   "id": "a34cfb4d",
   "metadata": {},
   "outputs": [],
   "source": [
    "import pandas as pd  \n",
    "import numpy as np\n",
    "import pandas_profiling\n",
    "import seaborn as sns\n",
    "import geopandas as gpd\n",
    "import matplotlib.pyplot as plt\n",
    "from sklearn.model_selection import train_test_split\n"
   ]
  },
  {
   "cell_type": "code",
   "execution_count": null,
   "id": "77d2d5dd",
   "metadata": {},
   "outputs": [],
   "source": [
    "pandas_profiling.ProfileReport(dataset)"
   ]
  }
 ],
 "metadata": {
  "kernelspec": {
   "display_name": "Python 3",
   "language": "python",
   "name": "python3"
  },
  "language_info": {
   "codemirror_mode": {
    "name": "ipython",
    "version": 3
   },
   "file_extension": ".py",
   "mimetype": "text/x-python",
   "name": "python",
   "nbconvert_exporter": "python",
   "pygments_lexer": "ipython3",
   "version": "3.8.8"
  }
 },
 "nbformat": 4,
 "nbformat_minor": 5
}
